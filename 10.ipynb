{
  "cells": [
    {
      "cell_type": "code",
      "execution_count": 70,
      "metadata": {
        "colab": {
          "base_uri": "https://localhost:8080/"
        },
        "id": "ZmsWmvyZhx21",
        "outputId": "b1b408cd-3963-4b4b-ecd3-5a3e27046b07"
      },
      "outputs": [
        {
          "name": "stdout",
          "output_type": "stream",
          "text": [
            "1, 1, 1, 0, 0, 1, 0, 1, 0, 0, 0, 1, 1, 1, 0, 0, 0, 0, 0, 0, 0, 0, 0, 1, 0, 1, 0, 1, 1, 1, 0, 1, 1, 1, 1, 1, 0, 0, 0, 0, 1, 0, 1, 1, 0, 0, 0, 0, 1, 0, 0, 1, 1, 0, 0, 0, 1, 0, 0, 0, 0, 0, 0, 0, 1, 0, 0, 0, 1, 0, 1, 0, 1, 0, 0, 0, 0, 0, 0, 0, 0, 0, 0, 0, 1, 0, 0, 0, 0, 1, 1, 0, 1, 0, 0, 0, 0, 0, 1, 0, 0, 1, 0, 0, 1, 0, 1, 0, 0, 0, 0, 0, 0, 0, 1, 0, 0, 0, 1, 0, 1, 1, 0, 0, 0, 0, 0, 0, 0, 1, 0\n"
          ]
        },
        {
          "name": "stderr",
          "output_type": "stream",
          "text": [
            "<ipython-input-70-06eb90d75aa3>:21: SettingWithCopyWarning: \n",
            "A value is trying to be set on a copy of a slice from a DataFrame.\n",
            "Try using .loc[row_indexer,col_indexer] = value instead\n",
            "\n",
            "See the caveats in the documentation: https://pandas.pydata.org/pandas-docs/stable/user_guide/indexing.html#returning-a-view-versus-a-copy\n",
            "  X_train['age'] = imputer.fit_transform(X_train[['age']].values)\n",
            "<ipython-input-70-06eb90d75aa3>:22: SettingWithCopyWarning: \n",
            "A value is trying to be set on a copy of a slice from a DataFrame.\n",
            "Try using .loc[row_indexer,col_indexer] = value instead\n",
            "\n",
            "See the caveats in the documentation: https://pandas.pydata.org/pandas-docs/stable/user_guide/indexing.html#returning-a-view-versus-a-copy\n",
            "  X_train['fare'] = imputer.transform(X_train[['fare']].values)\n",
            "<ipython-input-70-06eb90d75aa3>:23: SettingWithCopyWarning: \n",
            "A value is trying to be set on a copy of a slice from a DataFrame.\n",
            "Try using .loc[row_indexer,col_indexer] = value instead\n",
            "\n",
            "See the caveats in the documentation: https://pandas.pydata.org/pandas-docs/stable/user_guide/indexing.html#returning-a-view-versus-a-copy\n",
            "  X_test['age'] = imputer.transform(X_test[['age']].values)\n",
            "<ipython-input-70-06eb90d75aa3>:24: SettingWithCopyWarning: \n",
            "A value is trying to be set on a copy of a slice from a DataFrame.\n",
            "Try using .loc[row_indexer,col_indexer] = value instead\n",
            "\n",
            "See the caveats in the documentation: https://pandas.pydata.org/pandas-docs/stable/user_guide/indexing.html#returning-a-view-versus-a-copy\n",
            "  X_test['fare'] = imputer.transform(X_test[['fare']].values)\n",
            "<ipython-input-70-06eb90d75aa3>:27: SettingWithCopyWarning: \n",
            "A value is trying to be set on a copy of a slice from a DataFrame.\n",
            "Try using .loc[row_indexer,col_indexer] = value instead\n",
            "\n",
            "See the caveats in the documentation: https://pandas.pydata.org/pandas-docs/stable/user_guide/indexing.html#returning-a-view-versus-a-copy\n",
            "  X_train['sex'] = X_train['sex'].replace({'male': 0, 'female': 1})\n",
            "<ipython-input-70-06eb90d75aa3>:28: SettingWithCopyWarning: \n",
            "A value is trying to be set on a copy of a slice from a DataFrame.\n",
            "Try using .loc[row_indexer,col_indexer] = value instead\n",
            "\n",
            "See the caveats in the documentation: https://pandas.pydata.org/pandas-docs/stable/user_guide/indexing.html#returning-a-view-versus-a-copy\n",
            "  X_test['sex'] = X_test['sex'].replace({'male': 0, 'female': 1})\n",
            "<ipython-input-70-06eb90d75aa3>:31: SettingWithCopyWarning: \n",
            "A value is trying to be set on a copy of a slice from a DataFrame.\n",
            "Try using .loc[row_indexer,col_indexer] = value instead\n",
            "\n",
            "See the caveats in the documentation: https://pandas.pydata.org/pandas-docs/stable/user_guide/indexing.html#returning-a-view-versus-a-copy\n",
            "  X_train['embarked'] = X_train['embarked'].fillna('S')\n",
            "<ipython-input-70-06eb90d75aa3>:32: SettingWithCopyWarning: \n",
            "A value is trying to be set on a copy of a slice from a DataFrame.\n",
            "Try using .loc[row_indexer,col_indexer] = value instead\n",
            "\n",
            "See the caveats in the documentation: https://pandas.pydata.org/pandas-docs/stable/user_guide/indexing.html#returning-a-view-versus-a-copy\n",
            "  X_test['embarked'] = X_test['embarked'].fillna('S')\n",
            "<ipython-input-70-06eb90d75aa3>:33: SettingWithCopyWarning: \n",
            "A value is trying to be set on a copy of a slice from a DataFrame.\n",
            "Try using .loc[row_indexer,col_indexer] = value instead\n",
            "\n",
            "See the caveats in the documentation: https://pandas.pydata.org/pandas-docs/stable/user_guide/indexing.html#returning-a-view-versus-a-copy\n",
            "  X_train['embarked'] = X_train['embarked'].replace({'S': 0, 'C': 1, 'Q': 2})\n",
            "<ipython-input-70-06eb90d75aa3>:34: SettingWithCopyWarning: \n",
            "A value is trying to be set on a copy of a slice from a DataFrame.\n",
            "Try using .loc[row_indexer,col_indexer] = value instead\n",
            "\n",
            "See the caveats in the documentation: https://pandas.pydata.org/pandas-docs/stable/user_guide/indexing.html#returning-a-view-versus-a-copy\n",
            "  X_test['embarked'] = X_test['embarked'].replace({'S': 0, 'C': 1, 'Q': 2})\n"
          ]
        }
      ],
      "source": [
        "import pandas as pd\n",
        "import tensorflow_datasets as tfds\n",
        "from sklearn.ensemble import RandomForestClassifier\n",
        "from sklearn.impute import SimpleImputer\n",
        "\n",
        "# Загрузка обучающего и тестового наборов данных\n",
        "train_data = tfds.load('titanic', split='train')\n",
        "train_data = tfds.as_dataframe(train_data)\n",
        "test_data = pd.read_csv(\"https://courses.openedu.ru/assets/courseware/v1/af91b2fa0b03d882d0b41f09440b1eaa/asset-v1:ITMOUniversity+bonus_track_3+spring_2023+type@asset+block/DL_Task_3_Titain_reserved.csv\")\n",
        "\n",
        "# Выбор необходимых полей для обучения\n",
        "features = ['pclass', 'sex', 'age', 'sibsp', 'parch', 'fare', 'embarked']\n",
        "X_train = train_data[features]\n",
        "y_train = train_data['survived']\n",
        "X_test = test_data[features]\n",
        "X_train.head()\n",
        "X_test.head()\n",
        "\n",
        "# Замена пустых значений в полях age и fare медианой\n",
        "imputer = SimpleImputer(strategy='median')\n",
        "X_train['age'] = imputer.fit_transform(X_train[['age']].values)\n",
        "X_train['fare'] = imputer.transform(X_train[['fare']].values)\n",
        "X_test['age'] = imputer.transform(X_test[['age']].values)\n",
        "X_test['fare'] = imputer.transform(X_test[['fare']].values)\n",
        "\n",
        "# Замена значений в поле sex на числовые (0 для male, 1 для female)\n",
        "X_train['sex'] = X_train['sex'].replace({'male': 0, 'female': 1})\n",
        "X_test['sex'] = X_test['sex'].replace({'male': 0, 'female': 1})\n",
        "\n",
        "# Замена пустых значений в поле embarked на 'S' и замена значений на числовые (0, 1, 2)\n",
        "X_train['embarked'] = X_train['embarked'].fillna('S')\n",
        "X_test['embarked'] = X_test['embarked'].fillna('S')\n",
        "X_train['embarked'] = X_train['embarked'].replace({'S': 0, 'C': 1, 'Q': 2})\n",
        "X_test['embarked'] = X_test['embarked'].replace({'S': 0, 'C': 1, 'Q': 2})\n",
        "\n",
        "# Создание и обучение модели случайного леса\n",
        "rf = RandomForestClassifier(random_state=42)\n",
        "rf.fit(X_train, y_train)\n",
        "\n",
        "# Выполнение предсказаний на тестовом наборе данных\n",
        "predictions = rf.predict(X_test)\n",
        "predictions_str = [str(pred) for pred in predictions]\n",
        "result = ', '.join(predictions_str) \n",
        "\n",
        "print(result)"
      ]
    }
  ],
  "metadata": {
    "colab": {
      "provenance": []
    },
    "kernelspec": {
      "display_name": "Python 3",
      "language": "python",
      "name": "python3"
    },
    "language_info": {
      "codemirror_mode": {
        "name": "ipython",
        "version": 3
      },
      "file_extension": ".py",
      "mimetype": "text/x-python",
      "name": "python",
      "nbconvert_exporter": "python",
      "pygments_lexer": "ipython3",
      "version": "3.6.4"
    }
  },
  "nbformat": 4,
  "nbformat_minor": 0
}
