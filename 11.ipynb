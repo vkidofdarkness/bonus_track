{
  "nbformat": 4,
  "nbformat_minor": 0,
  "metadata": {
    "colab": {
      "provenance": []
    },
    "kernelspec": {
      "name": "python3",
      "display_name": "Python 3"
    },
    "language_info": {
      "name": "python"
    }
  },
  "cells": [
    {
      "cell_type": "code",
      "execution_count": 21,
      "metadata": {
        "id": "0Oxgg4DunBIM",
        "colab": {
          "base_uri": "https://localhost:8080/"
        },
        "outputId": "583a417f-e0fd-4dfa-c71f-1a8fa1ae7fff"
      },
      "outputs": [
        {
          "output_type": "stream",
          "name": "stderr",
          "text": [
            "/usr/local/lib/python3.9/dist-packages/torchvision/models/_utils.py:208: UserWarning: The parameter 'pretrained' is deprecated since 0.13 and may be removed in the future, please use 'weights' instead.\n",
            "  warnings.warn(\n",
            "/usr/local/lib/python3.9/dist-packages/torchvision/models/_utils.py:223: UserWarning: Arguments other than a weight enum or `None` for 'weights' are deprecated since 0.13 and may be removed in the future. The current behavior is equivalent to passing `weights=MaskRCNN_ResNet50_FPN_Weights.COCO_V1`. You can also use `weights=MaskRCNN_ResNet50_FPN_Weights.DEFAULT` to get the most up-to-date weights.\n",
            "  warnings.warn(msg)\n"
          ]
        },
        {
          "output_type": "stream",
          "name": "stdout",
          "text": [
            "Вероятность отнесения объекта к назначенному классу: 0.99853337\n",
            "Доля площади выбранного объекта относительно площади всего изображения: 0.006911440364650038\n",
            "Метка назначенного класса: 20\n",
            "Координаты (x, y) левого верхнего угла прямоугольника: (581, 236)\n",
            "Ширина прямоугольника: 44\n",
            "Высота прямоугольника: 63\n"
          ]
        }
      ],
      "source": [
        "import os\n",
        "from os.path import exists, join, basename, splitext\n",
        "\n",
        "import random\n",
        "import PIL\n",
        "import torchvision\n",
        "import cv2\n",
        "import numpy as np\n",
        "import torch\n",
        "torch.set_grad_enabled(False)\n",
        "\n",
        "import time\n",
        "import matplotlib\n",
        "import matplotlib.pylab as plt\n",
        "plt.rcParams[\"axes.grid\"] = False\n",
        "\n",
        "# Загрузка модели Mask R-CNN\n",
        "model = torchvision.models.detection.maskrcnn_resnet50_fpn(pretrained=True)\n",
        "model = model.eval().cpu()\n",
        "\n",
        "# Загрузка и предобработка изображения\n",
        "image_path = \"Comp_Vision_Task_5_File_2.jpg\"\n",
        "image = PIL.Image.open(image_path).convert(\"RGB\")\n",
        "image_tensor = torchvision.transforms.functional.to_tensor(image)\n",
        "image_tensor = image_tensor.unsqueeze(0)\n",
        "\n",
        "# Прогон изображения через модель\n",
        "output = model(image_tensor)\n",
        "\n",
        "# Получение результатов сегментации\n",
        "masks = output[0]['masks'].detach().numpy()\n",
        "labels = output[0]['labels'].detach().numpy()\n",
        "scores = output[0]['scores'].detach().numpy()\n",
        "\n",
        "# Выбор объекта с наибольшей площадью\n",
        "max_area = 0\n",
        "max_area_index = -1\n",
        "for i in range(len(masks)):\n",
        "    mask = masks[i, 0]\n",
        "    area = np.sum(mask)\n",
        "    if area > max_area:\n",
        "        max_area = area\n",
        "        max_area_index = i\n",
        "\n",
        "# Вывод результатов\n",
        "selected_mask = masks[max_area_index, 0]\n",
        "selected_label = labels[max_area_index]\n",
        "selected_score = scores[max_area_index]\n",
        "\n",
        "# Вероятность отнесения объекта к назначенному классу\n",
        "class_prob = selected_score\n",
        "\n",
        "# Доля площади выбранного объекта относительно площади всего изображения\n",
        "total_area = selected_mask.shape[0] * selected_mask.shape[1]\n",
        "area_ratio = max_area / total_area\n",
        "\n",
        "# Метка назначенного класса\n",
        "class_index = int(selected_label)\n",
        "\n",
        "# Определение границ прямоугольника\n",
        "nonzero_indices = np.nonzero(selected_mask)\n",
        "y_min = np.min(nonzero_indices[0]) + 1\n",
        "y_max = np.max(nonzero_indices[0]) - 1\n",
        "x_min = np.min(nonzero_indices[1]) + 1\n",
        "x_max = np.max(nonzero_indices[1]) - 1\n",
        "\n",
        "# Расчет ширины и высоты\n",
        "width = x_max - x_min\n",
        "height = y_max - y_min\n",
        "\n",
        "print(\"Вероятность отнесения объекта к назначенному классу:\", class_prob)\n",
        "print(\"Доля площади выбранного объекта относительно площади всего изображения:\", area_ratio)\n",
        "print(\"Метка назначенного класса:\", class_index) # нужно выбрать по индексу из этого массива ['unlabeled', 'person', 'bicycle', 'car', 'motorcycle', 'airplane', 'bus', 'train', 'truck', 'boat', 'traffic light', 'fire hydrant', 'street sign', 'stop sign', 'parking meter', 'bench', 'bird', 'cat', 'dog', 'horse', 'sheep', 'cow', 'elephant', 'bear', 'zebra', 'giraffe', 'hat', 'backpack', 'umbrella', 'shoe', 'eye glasses', 'handbag', 'tie', 'suitcase', 'frisbee', 'skis', 'snowboard', 'sports ball', 'kite', 'baseball bat', 'baseball glove', 'skateboard', 'surfboard', 'tennis racket', 'bottle', 'plate', 'wine glass', 'cup', 'fork', 'knife', 'spoon', 'bowl', 'banana', 'apple', 'sandwich', 'orange', 'broccoli', 'carrot', 'hot dog', 'pizza', 'donut', 'cake', 'chair', 'couch', 'potted plant', 'bed', 'mirror', 'dining table', 'window', 'desk', 'toilet', 'door', 'tv', 'laptop', 'mouse', 'remote', 'keyboard', 'cell phone', 'microwave', 'oven', 'toaster', 'sink', 'refrigerator', 'blender', 'book', 'clock', 'vase', 'scissors', 'teddy bear', 'hair drier', 'toothbrush']\n",
        "print(\"Координаты (x, y) левого верхнего угла прямоугольника:\", (x_min, y_min))\n",
        "print(\"Ширина прямоугольника:\", width)\n",
        "print(\"Высота прямоугольника:\", height)"
      ]
    }
  ]
}