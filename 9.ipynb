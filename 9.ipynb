{
  "nbformat": 4,
  "nbformat_minor": 0,
  "metadata": {
    "colab": {
      "provenance": []
    },
    "kernelspec": {
      "name": "python3",
      "display_name": "Python 3"
    },
    "language_info": {
      "name": "python"
    }
  },
  "cells": [
    {
      "cell_type": "code",
      "source": [
        "import pandas as pd\n",
        "from sklearn.model_selection import train_test_split\n",
        "from sklearn.preprocessing import StandardScaler\n",
        "from sklearn.neural_network import MLPClassifier\n",
        "from sklearn.metrics import precision_score, recall_score, f1_score\n",
        "\n",
        "# Загрузка данных\n",
        "url = \"https://courses.openedu.ru/assets/courseware/v1/98bd30e353cb034ff3274cc32db3d900/asset-v1:ITMOUniversity+bonus_track_3+spring_2023+type@asset+block/360T.csv\"\n",
        "df = pd.read_csv(url)\n",
        "\n",
        "# Разделение на признаки (X) и целевую переменную (y)\n",
        "X = df.iloc[:, :-1]\n",
        "y = df.iloc[:, -1]\n",
        "\n",
        "# Разделение на тренировочный и тестовый наборы данных\n",
        "X_train, X_test, y_train, y_test = train_test_split(X, y, test_size=0.3, random_state=65, stratify=y)\n",
        "\n",
        "# Стандартизация признаков\n",
        "scaler = StandardScaler()\n",
        "X_train = scaler.fit_transform(X_train)\n",
        "X_test = scaler.transform(X_test)\n",
        "\n",
        "# Обучение классификатора MLPClassifier\n",
        "classifier = MLPClassifier(random_state=65, hidden_layer_sizes=(31, 10), activation='logistic', max_iter=1000)\n",
        "classifier.fit(X_train, y_train)\n",
        "\n",
        "# Оценка модели на тестовых данных\n",
        "y_pred = classifier.predict(X_test)\n",
        "precision = precision_score(y_test, y_pred, average='macro')\n",
        "recall = recall_score(y_test, y_pred, average='macro')\n",
        "f1 = f1_score(y_test, y_pred, average='macro')\n",
        "\n",
        "print(\"Precision (macro avg):\", precision)\n",
        "print(\"Recall (macro avg):\", recall)\n",
        "print(\"F-score (macro avg):\", f1)\n",
        "\n",
        "# Предсказания для тестовых объектов\n",
        "test_urls = [\n",
        "    \"https://courses.openedu.ru/assets/courseware/v1/ab75da6cdf6315f16705cd0e43f69aac/asset-v1:ITMOUniversity+bonus_track_3+spring_2023+type@asset+block/DL_Task_2_test_file_44.csv\",\n",
        "    \"https://courses.openedu.ru/assets/courseware/v1/ba0102632b05adaa70d5db089215d314/asset-v1:ITMOUniversity+bonus_track_3+spring_2023+type@asset+block/DL_Task_2_test_file_78.csv\",\n",
        "    \"https://courses.openedu.ru/assets/courseware/v1/92947739c0fb4c8303ff207d82664e82/asset-v1:ITMOUniversity+bonus_track_3+spring_2023+type@asset+block/DL_Task_2_test_file_107.csv\",\n",
        "    \"https://courses.openedu.ru/assets/courseware/v1/e3790f31e3db983570a8ab3319c94e50/asset-v1:ITMOUniversity+bonus_track_3+spring_2023+type@asset+block/DL_Task_2_test_file_166.csv\"\n",
        "]\n",
        "\n",
        "for url in test_urls:\n",
        "    test_df = pd.read_csv(url)\n",
        "    test_data = scaler.transform(test_df)\n",
        "    predictions = classifier.predict(test_data)\n",
        "    print(\"Predictions for\", url)\n",
        "    print(predictions)\n",
        "    print()"
      ],
      "metadata": {
        "colab": {
          "base_uri": "https://localhost:8080/"
        },
        "id": "YzNhWAQo3yvy",
        "outputId": "221d4a34-964f-4661-b4af-833bf8c728aa"
      },
      "execution_count": 10,
      "outputs": [
        {
          "output_type": "stream",
          "name": "stdout",
          "text": [
            "Precision (macro avg): 0.8093452938813763\n",
            "Recall (macro avg): 0.7633048433048433\n",
            "F-score (macro avg): 0.7842811422944362\n",
            "Predictions for https://courses.openedu.ru/assets/courseware/v1/ab75da6cdf6315f16705cd0e43f69aac/asset-v1:ITMOUniversity+bonus_track_3+spring_2023+type@asset+block/DL_Task_2_test_file_44.csv\n",
            "[0]\n",
            "\n",
            "Predictions for https://courses.openedu.ru/assets/courseware/v1/ba0102632b05adaa70d5db089215d314/asset-v1:ITMOUniversity+bonus_track_3+spring_2023+type@asset+block/DL_Task_2_test_file_78.csv\n",
            "[0]\n",
            "\n",
            "Predictions for https://courses.openedu.ru/assets/courseware/v1/92947739c0fb4c8303ff207d82664e82/asset-v1:ITMOUniversity+bonus_track_3+spring_2023+type@asset+block/DL_Task_2_test_file_107.csv\n",
            "[1]\n",
            "\n",
            "Predictions for https://courses.openedu.ru/assets/courseware/v1/e3790f31e3db983570a8ab3319c94e50/asset-v1:ITMOUniversity+bonus_track_3+spring_2023+type@asset+block/DL_Task_2_test_file_166.csv\n",
            "[1]\n",
            "\n"
          ]
        }
      ]
    }
  ]
}